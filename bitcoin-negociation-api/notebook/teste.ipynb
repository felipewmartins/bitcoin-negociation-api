{
 "cells": [
  {
   "cell_type": "code",
   "execution_count": 6,
   "metadata": {},
   "outputs": [
    {
     "name": "stdout",
     "output_type": "stream",
     "text": [
      "{'pair': 'BTCBRL', 'last': 328739.52, 'volume24h': 499.7, 'var24h': 1.57, 'time': '2024-09-11T23:48:25-0300', 'exchanges': [{'code': 'bin', 'name': 'Binance', 'volume24h': 190.35, 'last': 328683}, {'code': 'mbc', 'name': 'MercadoBitcoin', 'volume24h': 97.78, 'last': 328308.33}, {'code': 'ndx', 'name': 'NovaDAX', 'volume24h': 80.69, 'last': 328795.17}, {'code': 'bpc', 'name': 'Bitypreço', 'volume24h': 76.33, 'last': 328245}, {'code': 'fxb', 'name': 'Foxbit', 'volume24h': 22.55, 'last': 328802.75}, {'code': 'bbo', 'name': 'Brasil Bitcoin OTC', 'volume24h': 21.7, 'last': 332589.24}, {'code': 'bso', 'name': 'Bitso', 'volume24h': 4.43, 'last': 328580}, {'code': 'cnt', 'name': 'Coinext', 'volume24h': 2.52, 'last': 328807}, {'code': 'btn', 'name': 'Bitnuvem', 'volume24h': 1.51, 'last': 330398.04}, {'code': 'bbn', 'name': 'Brasil Bitcoin', 'volume24h': 1.25, 'last': 328500}, {'code': 'btt', 'name': 'Ripio Trade', 'volume24h': 0.58, 'last': 328095}, {'code': 'bta', 'name': 'BitcoinToYou', 'volume24h': 0.01, 'last': 334376.14}, {'code': 'pgc', 'name': 'PagCripto', 'volume24h': 0.01, 'last': 307000}, {'code': 'pgo', 'name': 'PagCripto OTC', 'volume24h': 0, 'last': 323009.47}, {'code': 'upc', 'name': 'UpCâmbio', 'volume24h': 0, 'last': 328441.5}]}\n"
     ]
    }
   ],
   "source": [
    "import requests as req\n",
    "\n",
    "response = req.get('https://cointradermonitor.com/api/pbb/v1/ticker?exchanges=true')\n",
    "if response.status_code == 200:\n",
    "    data = response.json()\n",
    "else:\n",
    "    print(f'Erro na requisição: {response.status_code}')\n",
    "    \n",
    "print(data)"
   ]
  }
 ],
 "metadata": {
  "kernelspec": {
   "display_name": "base",
   "language": "python",
   "name": "python3"
  },
  "language_info": {
   "codemirror_mode": {
    "name": "ipython",
    "version": 3
   },
   "file_extension": ".py",
   "mimetype": "text/x-python",
   "name": "python",
   "nbconvert_exporter": "python",
   "pygments_lexer": "ipython3",
   "version": "3.12.2"
  }
 },
 "nbformat": 4,
 "nbformat_minor": 2
}
